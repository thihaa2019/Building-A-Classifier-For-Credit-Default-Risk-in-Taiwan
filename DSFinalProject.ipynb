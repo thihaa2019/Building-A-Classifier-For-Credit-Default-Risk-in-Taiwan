{
  "nbformat": 4,
  "nbformat_minor": 0,
  "metadata": {
    "colab": {
      "name": "DSFinalProject.ipynb",
      "provenance": [],
      "collapsed_sections": []
    },
    "kernelspec": {
      "name": "python3",
      "display_name": "Python 3"
    }
  },
  "cells": [
    {
      "cell_type": "markdown",
      "metadata": {
        "id": "P8xHlqh2CET5",
        "colab_type": "text"
      },
      "source": [
        "# DS100 Final Project : Building a Logistic Classifier for credit default risk in Taiwan"
      ]
    },
    {
      "cell_type": "markdown",
      "metadata": {
        "id": "9168n8AkCF1F",
        "colab_type": "text"
      },
      "source": [
        "# **Project Partners - Thiha Aung & Julia Chen**"
      ]
    },
    {
      "cell_type": "markdown",
      "metadata": {
        "id": "L9mFx-xddZec",
        "colab_type": "text"
      },
      "source": [
        "# **1. READ THE DATA**\n",
        "\n",
        "\n"
      ]
    },
    {
      "cell_type": "markdown",
      "metadata": {
        "id": "z3DuYXicALWV",
        "colab_type": "text"
      },
      "source": [
        "\n",
        "\n",
        "\n",
        "## (a). Let's import our dataset and take a look at what the columns represents\n",
        "\n",
        "\n"
      ]
    },
    {
      "cell_type": "code",
      "metadata": {
        "id": "pfPF0e9a-hyi",
        "colab_type": "code",
        "colab": {}
      },
      "source": [
        "import pandas as pd\n",
        "import numpy as np\n",
        "import altair as alt\n",
        "import io\n",
        "from pprint import pprint\n",
        "from sklearn.decomposition import PCA\n",
        "from sklearn.preprocessing import StandardScaler\n",
        "from sklearn.model_selection import train_test_split\n",
        "from sklearn import metrics\n",
        "from sklearn.linear_model import LogisticRegression\n",
        "import statsmodels.api as sm\n",
        "from sklearn.utils import resample"
      ],
      "execution_count": 0,
      "outputs": []
    },
    {
      "cell_type": "code",
      "metadata": {
        "id": "6UBC9lSGH00q",
        "colab_type": "code",
        "colab": {}
      },
      "source": [
        "creditdefault = pd.read_excel('default_of_credit_card_clients.xls',skiprows=1)\n",
        "creditdefault = creditdefault.drop('ID', 1) #Remove first column \"ID\" \n",
        "creditdefault.head()"
      ],
      "execution_count": 0,
      "outputs": []
    },
    {
      "cell_type": "markdown",
      "metadata": {
        "id": "5q1UvGL5bCUf",
        "colab_type": "text"
      },
      "source": [
        "## (b). Descriptions of each predictors/ regressors\n",
        "\n",
        "\n",
        "\n",
        "1. LIMIT_BAL: **(numeric)** Amount of given credit in NT dollars \n",
        "\n",
        "2. SEX: **(categorical)** Gender (1=male, 2=female)\n",
        "\n",
        "3. EDUCATION: **(categorical)** (1=graduate school, 2=university, 3=high school, 4=others, 5=unknown, 6=unknown) \n",
        "\n",
        "4. MARRIAGE: **(categorical)** Marital status (1=married, 2=single, 3=others)\n",
        "\n",
        "5. AGE: **(numeric)** Age in years \n",
        "\n",
        "6. PAY_0, PAY_2-6: **(categorical)** Repayment status from April to September, 2005 \n",
        "(-1=pay duly, 1=payment delay for one month, 2=payment delay for two months, ... 8=payment delay for eight months, 9=payment delay for nine months and above) \n",
        "\n",
        "7. BILL_AMT1-6: **(numeric)** Amount of bill statement in September, July... April, 2005 \n",
        "\n",
        "8. PAY_AMT1-6: **(numeric)** Amount of previous payment in September, July... April, 2005 \n",
        "\n",
        "9. default.payment.next.month:  **(predict variable)** Default payment (1=yes, 0=no)\n",
        "\n"
      ]
    },
    {
      "cell_type": "code",
      "metadata": {
        "id": "CFJpr-wqcc8d",
        "colab_type": "code",
        "colab": {}
      },
      "source": [
        "creditdefault.info()"
      ],
      "execution_count": 0,
      "outputs": []
    },
    {
      "cell_type": "markdown",
      "metadata": {
        "id": "iUmOSRWLdAB2",
        "colab_type": "text"
      },
      "source": [
        "## (c).  Check if there is any null values in the dataset.\n",
        "\n",
        "\n"
      ]
    },
    {
      "cell_type": "code",
      "metadata": {
        "id": "LqolAn7wAKri",
        "colab_type": "code",
        "colab": {}
      },
      "source": [
        "creditdefault.isnull().sum()\n",
        "#NO missing variable"
      ],
      "execution_count": 0,
      "outputs": []
    },
    {
      "cell_type": "code",
      "metadata": {
        "id": "pVUtcKi6TkFj",
        "colab_type": "code",
        "colab": {}
      },
      "source": [
        "creditdefault.describe()"
      ],
      "execution_count": 0,
      "outputs": []
    },
    {
      "cell_type": "markdown",
      "metadata": {
        "id": "fjWmMX3OtApr",
        "colab_type": "text"
      },
      "source": [
        "# **2. DATA CLEANING**"
      ]
    },
    {
      "cell_type": "markdown",
      "metadata": {
        "id": "fuox5m76yiJZ",
        "colab_type": "text"
      },
      "source": [
        "In this process, we will focus on verifying and cleaning categorial variables.\n",
        "\n"
      ]
    },
    {
      "cell_type": "markdown",
      "metadata": {
        "id": "mDBqVoKBxO_q",
        "colab_type": "text"
      },
      "source": [
        "## (a). Check feature \"SEX\"."
      ]
    },
    {
      "cell_type": "code",
      "metadata": {
        "id": "dx9WQy8ztAVJ",
        "colab_type": "code",
        "colab": {}
      },
      "source": [
        "#Check each category variable\n",
        "print(creditdefault['SEX'].unique())\n"
      ],
      "execution_count": 0,
      "outputs": []
    },
    {
      "cell_type": "markdown",
      "metadata": {
        "id": "PY6qxh6pue88",
        "colab_type": "text"
      },
      "source": [
        "Each variable is documented such that male = 1, female = 0. No action is needed further."
      ]
    },
    {
      "cell_type": "markdown",
      "metadata": {
        "id": "UGB5k1-YxZJ6",
        "colab_type": "text"
      },
      "source": [
        "## (b). Check feature \"EDUCATION\"."
      ]
    },
    {
      "cell_type": "code",
      "metadata": {
        "id": "Yezhbl1puZ4d",
        "colab_type": "code",
        "colab": {}
      },
      "source": [
        "print(creditdefault['EDUCATION'].unique())\n"
      ],
      "execution_count": 0,
      "outputs": []
    },
    {
      "cell_type": "markdown",
      "metadata": {
        "id": "ycZ7GLCnu0OV",
        "colab_type": "text"
      },
      "source": [
        "For feature \"Education\",value 0 is not documented, value 4 is others 5,6 unknown. Hence, it is reasonable to assume that values 0,4,5,6 are same and set all of them to 4. "
      ]
    },
    {
      "cell_type": "code",
      "metadata": {
        "id": "h7BFhu5YvRrM",
        "colab_type": "code",
        "colab": {}
      },
      "source": [
        "change = (creditdefault['EDUCATION'] == 0\n",
        "          ) | (creditdefault['EDUCATION'] == 4) | (creditdefault['EDUCATION'] == 5) | (creditdefault['EDUCATION'] == 6)\n",
        "\n",
        "creditdefault.loc[change,'EDUCATION'] = 4\n",
        "\n",
        "print(creditdefault['EDUCATION'].unique())"
      ],
      "execution_count": 0,
      "outputs": []
    },
    {
      "cell_type": "markdown",
      "metadata": {
        "id": "_nDnnMt3xeIX",
        "colab_type": "text"
      },
      "source": [
        "## (c). Check feature \"MARRIAGE\"."
      ]
    },
    {
      "cell_type": "code",
      "metadata": {
        "id": "9A35PGYOuaB6",
        "colab_type": "code",
        "colab": {}
      },
      "source": [
        "print(creditdefault['MARRIAGE'].unique())\n"
      ],
      "execution_count": 0,
      "outputs": []
    },
    {
      "cell_type": "markdown",
      "metadata": {
        "id": "EDeOr0KDwrXM",
        "colab_type": "text"
      },
      "source": [
        "0 IS undocumented and 3 is others. I suggest that both values form a group of people who are either divoreced or doesn't want to answer. Let's set both to 3. "
      ]
    },
    {
      "cell_type": "code",
      "metadata": {
        "id": "f5ElLP69w4hG",
        "colab_type": "code",
        "colab": {}
      },
      "source": [
        "change = (creditdefault['MARRIAGE'] == 0) | (creditdefault['MARRIAGE'] == 3)\n",
        "creditdefault.loc[change,'MARRIAGE'] = 3 # set the values of credit default with 0 or 3 to 3\n",
        "print(creditdefault['MARRIAGE'].unique())"
      ],
      "execution_count": 0,
      "outputs": []
    },
    {
      "cell_type": "markdown",
      "metadata": {
        "id": "gXukM4hnxsDL",
        "colab_type": "text"
      },
      "source": [
        "## (d). Check features \"PAY_0\",\"PAY2\" to \"PAY_6\""
      ]
    },
    {
      "cell_type": "code",
      "metadata": {
        "id": "yvMal0wJxoye",
        "colab_type": "code",
        "colab": {}
      },
      "source": [
        "for i in [0,2,3,4,5,6]:\n",
        "  string = \"PAY_\"\n",
        "  string = string+str(i)\n",
        "  print(creditdefault[string].unique())"
      ],
      "execution_count": 0,
      "outputs": []
    },
    {
      "cell_type": "markdown",
      "metadata": {
        "id": "pFbxrRqv1Q29",
        "colab_type": "text"
      },
      "source": [
        "Recall: PAY_0, PAY_2-6: Repayment status from August to September, 2005 \n",
        "(-1=pay duly, 1=payment delay for one month, 2=payment delay for two months, ... 8=payment delay for eight months, 9=payment delay for nine months and above)  \n",
        "\n",
        "**Note that we have data point -2 which has no description. Since -1 is described as pay duly,we assume -2 is also pay duly or pay one month ahead and set both to 1.**"
      ]
    },
    {
      "cell_type": "code",
      "metadata": {
        "id": "f6jkpWq81zfC",
        "colab_type": "code",
        "colab": {}
      },
      "source": [
        "for i in [0,2,3,4,5,6]:\n",
        "  string = \"PAY_\"\n",
        "  string = string+str(i)\n",
        "  change = (creditdefault[string] == -2) | (creditdefault[string] == -1)\n",
        "  creditdefault.loc[change,string] = -1\n",
        "  print(np.sort(creditdefault[string].unique()))"
      ],
      "execution_count": 0,
      "outputs": []
    },
    {
      "cell_type": "markdown",
      "metadata": {
        "id": "_TXvcID_FY_R",
        "colab_type": "text"
      },
      "source": [
        "##  (e) Since EDUCATION feature is ordinal categorial data, we will do one-hot encoding.\n"
      ]
    },
    {
      "cell_type": "code",
      "metadata": {
        "id": "EyTt7c7RFX3R",
        "colab_type": "code",
        "colab": {}
      },
      "source": [
        "# Transform all back to their according names for education\n",
        "from sklearn.feature_extraction import DictVectorizer\n",
        "\n",
        "mylist = [\"Graduate School\", \"University\",\"High school\", \"Others\"]\n",
        "i =1\n",
        "for x in mylist:\n",
        "    change = creditdefault['EDUCATION'] == i\n",
        "    creditdefault.loc[change,'EDUCATION'] = x\n",
        "    i = i + 1\n",
        "\n",
        "\n",
        "EDUCATION = creditdefault[['EDUCATION']].to_dict(orient='records')\n",
        "encoder = DictVectorizer(sparse=False)\n",
        "newdf = pd.DataFrame(\n",
        "    data = encoder.fit_transform(EDUCATION),\n",
        "    columns = encoder.feature_names_\n",
        ")\n",
        "creditdefault= pd.concat([creditdefault ,newdf], ignore_index=False, axis=1)\n",
        "creditdefault.head()"
      ],
      "execution_count": 0,
      "outputs": []
    },
    {
      "cell_type": "markdown",
      "metadata": {
        "id": "FM8k1k6TGAA0",
        "colab_type": "text"
      },
      "source": [
        "## (f) For visualization interpretability, we will add columns of desriptions of each categorical variables (SEX,MARRIAGE, PAY_0,PAY_2 to PAY_6).  \n",
        " For example, for 'SEX' feature, we have integer encoding 1 and 2. We will add a column named 'SEX DESCRIPTION' where 1 is 'Male' and 2 is 'Female'\n"
      ]
    },
    {
      "cell_type": "code",
      "metadata": {
        "id": "pMiVKYAjHE_0",
        "colab_type": "code",
        "colab": {}
      },
      "source": [
        "#Added Description for 'SEX' feature\n",
        "#1 is male 2 is female\n",
        "mylist = [\"Male\",\"Female\"]\n",
        "i =1\n",
        "for x in mylist:\n",
        "    change = creditdefault['SEX'] == i\n",
        "    creditdefault.loc[change,'SEX DESCRIPTION'] = x\n",
        "    i = i + 1\n",
        "    \n",
        "creditdefault.head()"
      ],
      "execution_count": 0,
      "outputs": []
    },
    {
      "cell_type": "code",
      "metadata": {
        "id": "ebY7dYsNFmi-",
        "colab_type": "code",
        "colab": {}
      },
      "source": [
        "#Added Description for 'MARRIAGE' feature\n",
        "mylist = [\"Married\", \"Single\",\"Others\"]\n",
        "i =1\n",
        "for x in mylist:\n",
        "    change = creditdefault['MARRIAGE'] == i\n",
        "    creditdefault.loc[change,'MARRIAGE DESCRIPTION'] = x\n",
        "    i = i + 1\n",
        "\n",
        "\n",
        "creditdefault.head()"
      ],
      "execution_count": 0,
      "outputs": []
    },
    {
      "cell_type": "code",
      "metadata": {
        "id": "txvLBSDVHbkg",
        "colab_type": "code",
        "colab": {}
      },
      "source": [
        "#Add description for Pay\n",
        "#PAY_0, PAY_2-6: (categorical) Repayment status from August to September, 2005\n",
        "# -1=pay duly, 1=payment delay for one month, 2=payment delay for two months, 8=payment delay for eight months, \n",
        "# 9=payment delay for nine months and above\n",
        "\n",
        "\n",
        "mylist = [\"Pay Duly\",\"1 Month Delay\",\"2 MonthDelay\",\"3 Month Delay\",\"4 Month Delay\",\"5 Month Delay\",\"6 Month Delay\",\n",
        "          \"7 Month Delay\",\"8 Month Delay\",\"9 Month Or More Delay\"]\n",
        "features = {\"PAY_0\" : 'PAY_0(SEPT STATUS)',\"PAY_2\":'PAY_2(AUG STATUS)',\"PAY_3\":'PAY_3(JULY STATUS)',\n",
        "            \"PAY_4\":'PAY_4(JUN STATUS)',\"PAY_5\":'PAY_5(MAY STATUS)',\"PAY_6\":'PAY_6(APR STATUS)'}\n",
        "mydict  = { -1 : \"Pay Duly\", 0: \"1 Month Delay\",1: \"2 MonthDelay\",2: \"3 Month Delay\",3: \"4 Month Delay\",4:\"5 Month Delay\",\n",
        "           5:\"6 Month Delay\",6:\"7 Month Delay\",7:\"8 Month Delay\",8:\"9 Month Or More Delay\"}\n",
        "for key in features:\n",
        "  for x in mylist:\n",
        "    for i in np.sort(creditdefault[key].unique()):\n",
        "      change = creditdefault[key] == i\n",
        "      creditdefault.loc[change,features.get(key)] = mydict.get(i)\n",
        "\n",
        "creditdefault.head()\n"
      ],
      "execution_count": 0,
      "outputs": []
    },
    {
      "cell_type": "markdown",
      "metadata": {
        "id": "Nybd8BsceyXy",
        "colab_type": "text"
      },
      "source": [
        "# **3. EXPLORATORY DATA ANALYSIS** "
      ]
    },
    {
      "cell_type": "markdown",
      "metadata": {
        "id": "ujLpl1fKgKZm",
        "colab_type": "text"
      },
      "source": [
        "# (a). Exploration based on the Y (default payment next month)"
      ]
    },
    {
      "cell_type": "code",
      "metadata": {
        "id": "1printljdmj5",
        "colab_type": "code",
        "colab": {}
      },
      "source": [
        "creditdefault.groupby('default payment next month').mean()"
      ],
      "execution_count": 0,
      "outputs": []
    },
    {
      "cell_type": "markdown",
      "metadata": {
        "id": "YoVGqWE5gXB1",
        "colab_type": "text"
      },
      "source": [
        "* We could observed that the Limit Balance for no default payment next \n",
        "month is much higher than default payment next month. \n",
        "\n",
        "* Overall, Sex and Education and Marriage status are relatively same whatever if there is a default payment next month or not.\n",
        "\n",
        "* Repayment status from April to September is highly correlated with default payment, if there is no default payment, the repayment status will be negative which means it is pay duly.\n",
        "\n",
        "* Amount of bill statement of no efault payment next month is slightly higher than default payment next month.\n",
        "\n",
        "* Amount of previous payment of no efault payment next month is significantly higher than default payment next month.\n",
        "\n",
        "Indeed, we could groupby other categorical variable and visualize such as Sex, Education, Marital status to get a more detailed sense of our data.\n",
        "\n"
      ]
    },
    {
      "cell_type": "markdown",
      "metadata": {
        "id": "cZG8qWFIcVCi",
        "colab_type": "text"
      },
      "source": [
        "# (b) Some Visualization\n"
      ]
    },
    {
      "cell_type": "markdown",
      "metadata": {
        "id": "tvxOpqHRY8av",
        "colab_type": "text"
      },
      "source": [
        "#### **(i) Sex**\n"
      ]
    },
    {
      "cell_type": "code",
      "metadata": {
        "id": "EHCiqWFGiwNP",
        "colab_type": "code",
        "colab": {}
      },
      "source": [
        "alt.data_transformers.disable_max_rows()\n",
        "source = creditdefault[creditdefault['default payment next month']==1]\n",
        "alt.Chart(source).mark_bar().encode(\n",
        "    x='SEX DESCRIPTION:O',\n",
        "    y='count(default payment next month):Q',\n",
        "    column='MARRIAGE DESCRIPTION:O'\n",
        ").properties(width=220)\n",
        "\n",
        "# more female in single seems to no default"
      ],
      "execution_count": 0,
      "outputs": []
    },
    {
      "cell_type": "code",
      "metadata": {
        "id": "vrP21Efc3a8g",
        "colab_type": "code",
        "colab": {}
      },
      "source": [
        "# Defined a pd series that finds the relationship between each feature \n",
        "# and default or no and the percent\n",
        "def correlationframe(Col1, Col2):\n",
        "    result = creditdefault.groupby([Col1, Col2]).size().unstack()\n",
        "    result['Default percent'] = (result[result.columns[1]]/(result[result.columns[0]] + result[result.columns[1]]))\n",
        "    return result\n",
        "correlationframe(creditdefault['SEX DESCRIPTION'],creditdefault['default payment next month'])"
      ],
      "execution_count": 0,
      "outputs": []
    },
    {
      "cell_type": "markdown",
      "metadata": {
        "id": "KSv-Tg2X48Cf",
        "colab_type": "text"
      },
      "source": [
        "Note more females (2) in data but more males default (24 percent)! Interesting..."
      ]
    },
    {
      "cell_type": "code",
      "metadata": {
        "id": "5D7Ty1fZ6FmJ",
        "colab_type": "code",
        "colab": {}
      },
      "source": [
        "source = creditdefault\n",
        "alt.Chart(source).mark_bar().encode(\n",
        "    x='SEX DESCRIPTION:O',\n",
        "    y='count(default payment next month):Q',\n",
        "    column='default payment next month:O',\n",
        "    color='default payment next month:O'\n",
        ").properties(width=220)"
      ],
      "execution_count": 0,
      "outputs": []
    },
    {
      "cell_type": "markdown",
      "metadata": {
        "id": "Viqm2saJLnr8",
        "colab_type": "text"
      },
      "source": [
        "The total numbers are similar for married and single. But married people default more! "
      ]
    },
    {
      "cell_type": "markdown",
      "metadata": {
        "id": "-OOUropVZiz4",
        "colab_type": "text"
      },
      "source": [
        "#### **(ii) Education**\n"
      ]
    },
    {
      "cell_type": "code",
      "metadata": {
        "id": "W50lQt-oLn8z",
        "colab_type": "code",
        "colab": {}
      },
      "source": [
        "correlationframe(creditdefault['EDUCATION'],creditdefault['default payment next month'])"
      ],
      "execution_count": 0,
      "outputs": []
    },
    {
      "cell_type": "markdown",
      "metadata": {
        "id": "IMZi03kOMZ-M",
        "colab_type": "text"
      },
      "source": [
        "More people in high school and university default more compared to people who go to graduate school. \n"
      ]
    },
    {
      "cell_type": "code",
      "metadata": {
        "id": "6O7O923aztF1",
        "colab_type": "code",
        "colab": {}
      },
      "source": [
        "source = creditdefault\n",
        "alt.Chart(source).mark_bar().encode(\n",
        "    x='EDUCATION:O',\n",
        "    y='count(default payment next month):Q',\n",
        "    column='default payment next month:O',\n",
        "    color='default payment next month:O'\n",
        ").properties(width=220)"
      ],
      "execution_count": 0,
      "outputs": []
    },
    {
      "cell_type": "markdown",
      "metadata": {
        "id": "Pzwn-awdz_uE",
        "colab_type": "text"
      },
      "source": [
        "For people who atttend university and graduate school wi"
      ]
    },
    {
      "cell_type": "markdown",
      "metadata": {
        "id": "CNx9zhq7Z3Wb",
        "colab_type": "text"
      },
      "source": [
        "#### **(iii) PAY_0 (Last Payment Satus)**\n",
        "\n"
      ]
    },
    {
      "cell_type": "code",
      "metadata": {
        "id": "iscXUsed3r72",
        "colab_type": "code",
        "colab": {}
      },
      "source": [
        "source = creditdefault\n",
        "alt.Chart(source).mark_bar().encode(\n",
        "    x='PAY_0(SEPT STATUS):O',\n",
        "    y='count(default payment next month):Q',\n",
        "    column='default payment next month:O',\n",
        "    color='default payment next month:O'\n",
        ").properties(width=220)"
      ],
      "execution_count": 0,
      "outputs": []
    },
    {
      "cell_type": "markdown",
      "metadata": {
        "id": "sS0LwS7bMY_R",
        "colab_type": "text"
      },
      "source": [
        "#### **(iv) Marriage**\n"
      ]
    },
    {
      "cell_type": "code",
      "metadata": {
        "id": "Uxb_QAq1bnsV",
        "colab_type": "code",
        "colab": {}
      },
      "source": [
        "correlationframe(creditdefault['MARRIAGE DESCRIPTION'],creditdefault['default payment next month'])"
      ],
      "execution_count": 0,
      "outputs": []
    },
    {
      "cell_type": "code",
      "metadata": {
        "id": "pwklg1W74F4g",
        "colab_type": "code",
        "colab": {}
      },
      "source": [
        "source = creditdefault\n",
        "alt.Chart(source).mark_bar().encode(\n",
        "    x='MARRIAGE DESCRIPTION:O',\n",
        "    y='count(default payment next month):Q',\n",
        "    column='default payment next month:O',\n",
        "    color='default payment next month:O'\n",
        ").properties(width=220)"
      ],
      "execution_count": 0,
      "outputs": []
    },
    {
      "cell_type": "markdown",
      "metadata": {
        "id": "OjmgBw3LRDrJ",
        "colab_type": "text"
      },
      "source": [
        "#### (v) Age"
      ]
    },
    {
      "cell_type": "code",
      "metadata": {
        "id": "r1bOVFOZjfU2",
        "colab_type": "code",
        "colab": {}
      },
      "source": [
        "source = creditdefault[creditdefault['default payment next month']==1]\n",
        "alt.Chart(source).mark_bar().encode(\n",
        "    alt.X(\"AGE:O\",bin = True),\n",
        "    y='count(AGE)',\n",
        "    column = 'MARRIAGE DESCRIPTION'\n",
        ").properties(width=230)\n",
        "\n",
        "# 20-30people default the most among singles\n",
        "# married people default around 30-50"
      ],
      "execution_count": 0,
      "outputs": []
    },
    {
      "cell_type": "markdown",
      "metadata": {
        "id": "bQ-07SH6W4gn",
        "colab_type": "text"
      },
      "source": [
        "#### (vi) Limit Balance"
      ]
    },
    {
      "cell_type": "code",
      "metadata": {
        "id": "3RJgfozjV8bS",
        "colab_type": "code",
        "colab": {}
      },
      "source": [
        "alt.Chart(creditdefault).mark_boxplot().encode(\n",
        "    alt.X(\"AGE:O\",bin = True),\n",
        "    alt.Y('LIMIT_BAL:Q',title = \"Limit balance\") \n",
        ").properties(width=230)\n"
      ],
      "execution_count": 0,
      "outputs": []
    },
    {
      "cell_type": "code",
      "metadata": {
        "id": "aVCkxot_W9vN",
        "colab_type": "code",
        "colab": {}
      },
      "source": [
        "alt.Chart(creditdefault).mark_boxplot().encode(\n",
        "    alt.X(\"SEX DESCRIPTION:N\"),\n",
        "    alt.Y('LIMIT_BAL:Q',title = \"Limit Balance\")\n",
        ").properties(width=230)\n"
      ],
      "execution_count": 0,
      "outputs": []
    },
    {
      "cell_type": "code",
      "metadata": {
        "id": "4X9PMPPZFWbC",
        "colab_type": "code",
        "colab": {}
      },
      "source": [
        "source = creditdefault\n",
        "alt.data_transformers.disable_max_rows()\n",
        "\n",
        "alt.Chart(source).mark_bar(size=40).encode(\n",
        "    x='SEX DESCRIPTION:O',\n",
        "    y='count(default payment next month):Q',\n",
        "    #column='default payment next month:O',\n",
        "    color='default payment next month:O'\n",
        ").properties(width=250,height=200)"
      ],
      "execution_count": 0,
      "outputs": []
    },
    {
      "cell_type": "code",
      "metadata": {
        "id": "4A0_dxz9FelA",
        "colab_type": "code",
        "colab": {}
      },
      "source": [
        "alt.Chart(source).mark_bar(size=40).encode(\n",
        "    x='EDUCATION:O',\n",
        "    y='count(default payment next month):Q',\n",
        "    #column='default payment next month:O',\n",
        "    color='default payment next month:O'\n",
        ").properties(width=250,height=200)"
      ],
      "execution_count": 0,
      "outputs": []
    },
    {
      "cell_type": "code",
      "metadata": {
        "id": "9vUqnhXWHLSn",
        "colab_type": "code",
        "colab": {}
      },
      "source": [
        "alt.Chart(source).mark_bar(size=40).encode(\n",
        "    x='MARRIAGE DESCRIPTION:O',\n",
        "    y='count(default payment next month):Q',\n",
        "    #column='default payment next month:O',\n",
        "    color='default payment next month:O'\n",
        ").properties(width=250,height=200)"
      ],
      "execution_count": 0,
      "outputs": []
    },
    {
      "cell_type": "markdown",
      "metadata": {
        "id": "mRt7FIo-BX2H",
        "colab_type": "text"
      },
      "source": [
        "# **4. PCA**\n",
        "\n",
        "\n"
      ]
    },
    {
      "cell_type": "code",
      "metadata": {
        "id": "_A1jS_GjFH_F",
        "colab_type": "code",
        "colab": {}
      },
      "source": [
        "data=creditdefault[['LIMIT_BAL','BILL_AMT1','BILL_AMT2','BILL_AMT3','BILL_AMT4','BILL_AMT5','BILL_AMT6',\n",
        "                       'PAY_AMT1','PAY_AMT2','PAY_AMT3','PAY_AMT4','PAY_AMT5','PAY_AMT6']]\n",
        "corrMatrix = data.corr().reset_index().melt('index')\n",
        "corrMatrix.columns = ['var1', 'var2', 'correlation']\n",
        "base = alt.Chart(corrMatrix).transform_filter(\n",
        "    alt.datum.var1 < alt.datum.var2\n",
        ").encode(\n",
        "    x='var1',\n",
        "    y='var2',\n",
        ").properties(\n",
        "    width=alt.Step(30),\n",
        "    height=alt.Step(30)\n",
        ")\n",
        "\n",
        "rects = base.mark_rect(size=30).encode(\n",
        "    color='correlation'\n",
        ")\n",
        "\n",
        "text = base.mark_text(\n",
        "    size=10\n",
        ").encode(\n",
        "    text=alt.Text('correlation', format=\".2f\"),\n",
        "    color=alt.condition(\n",
        "        \"datum.correlation > 0.5\",\n",
        "        alt.value('white'),\n",
        "        alt.value('black')\n",
        "    )\n",
        ")\n",
        "rects + text"
      ],
      "execution_count": 0,
      "outputs": []
    },
    {
      "cell_type": "code",
      "metadata": {
        "id": "e1zn0SiLX6Ad",
        "colab_type": "code",
        "colab": {}
      },
      "source": [
        "def winsorize(data, variable, k=0):\n",
        "    # Sort the values of the given variable to find the replacement values\n",
        "    sorted_val = np.sort(data[variable])\n",
        "    total = len(data)\n",
        "    lower = sorted_val[k]\n",
        "    upper = sorted_val[total-k-1]\n",
        "    \n",
        "    # Make a copy() of the data so not to change the original dataframe\n",
        "    data_copy = data\n",
        "\n",
        "    ## Replace outliers on data_copy\n",
        "    data_copy.loc[(data_copy[variable] < lower), variable] = lower\n",
        "    data_copy.loc[(data_copy[variable] > upper), variable] = upper\n",
        "    \n",
        "    return data_copy"
      ],
      "execution_count": 0,
      "outputs": []
    },
    {
      "cell_type": "code",
      "metadata": {
        "id": "eyk3PFGJX8da",
        "colab_type": "code",
        "colab": {}
      },
      "source": [
        "creditdefault=winsorize(creditdefault, 'PAY_AMT1', k=100)\n",
        "creditdefault=winsorize(creditdefault, 'PAY_AMT2', k=100)\n",
        "creditdefault=winsorize(creditdefault, 'PAY_AMT3', k=100)\n",
        "creditdefault=winsorize(creditdefault, 'PAY_AMT4', k=100)\n",
        "creditdefault=winsorize(creditdefault, 'PAY_AMT5', k=100)\n",
        "creditdefault=winsorize(creditdefault, 'PAY_AMT6', k=100)\n",
        "\n",
        "creditdefault=winsorize(creditdefault, 'BILL_AMT1', k=100)\n",
        "creditdefault=winsorize(creditdefault, 'BILL_AMT2', k=100)\n",
        "creditdefault=winsorize(creditdefault, 'BILL_AMT3', k=100)\n",
        "creditdefault=winsorize(creditdefault, 'BILL_AMT4', k=100)\n",
        "creditdefault=winsorize(creditdefault, 'BILL_AMT5', k=100)\n",
        "creditdefault=winsorize(creditdefault, 'BILL_AMT6', k=100)"
      ],
      "execution_count": 0,
      "outputs": []
    },
    {
      "cell_type": "markdown",
      "metadata": {
        "id": "e8hUhgC6ReeV",
        "colab_type": "text"
      },
      "source": [
        "First of all, balanced default payment next month"
      ]
    },
    {
      "cell_type": "code",
      "metadata": {
        "id": "_tIMLSg1RyRK",
        "colab_type": "code",
        "colab": {}
      },
      "source": [
        "y = creditdefault[['default payment next month']]\n",
        "X = creditdefault.loc[:, creditdefault.columns != 'default payment next month']\n",
        "\n",
        "X_train, X_test, y_train, y_test = train_test_split(X, y, test_size=0.2, random_state=0)\n",
        "\n",
        "# concatenate our training data back together\n",
        "X = pd.concat([X_train, y_train], axis=1)\n",
        "\n",
        "# separate minority and majority classes\n",
        "not_default = X[X['default payment next month']==0]\n",
        "default = X[X['default payment next month']==1]\n",
        "\n",
        "default_upsampled  = resample(default, replace=True, # sample with replacement\n",
        "               n_samples=len(not_default)) # match number in majority class\n",
        "balanced = pd.concat([not_default, default_upsampled])"
      ],
      "execution_count": 0,
      "outputs": []
    },
    {
      "cell_type": "markdown",
      "metadata": {
        "id": "ZclkL0_LR4Kh",
        "colab_type": "text"
      },
      "source": [
        "Check balance"
      ]
    },
    {
      "cell_type": "code",
      "metadata": {
        "id": "F-h4PvweR25C",
        "colab_type": "code",
        "colab": {}
      },
      "source": [
        "len(balanced)\n",
        "balanced['default payment next month'].value_counts()"
      ],
      "execution_count": 0,
      "outputs": []
    },
    {
      "cell_type": "code",
      "metadata": {
        "id": "ysmZ_iMUB5Wx",
        "colab_type": "code",
        "colab": {}
      },
      "source": [
        "PAY_BILL_AMT=balanced[['BILL_AMT1','BILL_AMT2','BILL_AMT3','BILL_AMT4','BILL_AMT5','PAY_AMT6',\n",
        "                        'PAY_AMT1','PAY_AMT2','PAY_AMT3','PAY_AMT4','PAY_AMT5','PAY_AMT6']]\n",
        "defaultPayment=balanced[['default payment next month']]\n",
        "\n",
        "#center the PAY_BILL_AMT\n",
        "n = PAY_BILL_AMT.shape[0]\n",
        "mean = np.mean(PAY_BILL_AMT, axis = 0)\n",
        "sd = (np.var(PAY_BILL_AMT, axis = 0))**(1/2)\n",
        "normalized_AMT= (PAY_BILL_AMT - mean)/(sd)/n**(1/2)\n",
        "\n",
        "my_dict=np.linalg.svd(normalized_AMT, full_matrices=False)\n",
        "u = my_dict[0]\n",
        "s = my_dict[1]\n",
        "vt = my_dict[2]\n",
        "first_two_vt_vectors = vt[:2] \n",
        "x_2d = normalized_AMT @ first_two_vt_vectors.T"
      ],
      "execution_count": 0,
      "outputs": []
    },
    {
      "cell_type": "markdown",
      "metadata": {
        "id": "8Fy4Ou2TSJ_h",
        "colab_type": "text"
      },
      "source": [
        "Visualize first 2 PCs"
      ]
    },
    {
      "cell_type": "code",
      "metadata": {
        "id": "9KUP3AncSLYM",
        "colab_type": "code",
        "colab": {}
      },
      "source": [
        "alt.data_transformers.disable_max_rows()\n",
        "\n",
        "plot_pca = pd.DataFrame({\n",
        "    'x': x_2d.iloc[:,0],\n",
        "    'y': x_2d.iloc[:,1],\n",
        "     'color': defaultPayment['default payment next month']\n",
        "})\n",
        "\n",
        "\n",
        "alt.Chart(plot_pca).mark_circle(size=5).encode(\n",
        "    x = alt.X('x', title=' PC1'),\n",
        "    y = alt.Y('y', title=' PC2'),\n",
        "    #color =  'default payment next month:O'\n",
        "    color = alt.Color('color:N', scale=alt.Scale(scheme='set1'))\n",
        ")\n",
        "#Note: remove outlier for BILL AND PAY"
      ],
      "execution_count": 0,
      "outputs": []
    },
    {
      "cell_type": "code",
      "metadata": {
        "id": "EyFZO00kEe0Q",
        "colab_type": "code",
        "colab": {}
      },
      "source": [
        "explained = pd.DataFrame({\n",
        "    'PC #': [1, 2, 3, 4, 5, 6, 7, 8, 9, 10],\n",
        "    'Fraction of Variance Explained' : np.square(s[:10])\n",
        "})\n",
        "\n",
        "# Draw visualization\n",
        "alt.Chart(explained).mark_bar(size=20).encode(\n",
        "    alt.X('PC #:O'),\n",
        "    alt.Y('Fraction of Variance Explained:Q')\n",
        ").configure_axisX(labelAngle=0\n",
        ").properties(width=400)\n"
      ],
      "execution_count": 0,
      "outputs": []
    },
    {
      "cell_type": "markdown",
      "metadata": {
        "id": "YmDtawboEi2F",
        "colab_type": "text"
      },
      "source": [
        "Since principal component matrix  $P$ is simply the original data rotated in space so that it appears axis aligned. We could just use $P=XV$, From the plot, Variance Explained by Principal Components, there is a cutoff at PC7, so will use first 7 PCs."
      ]
    },
    {
      "cell_type": "code",
      "metadata": {
        "id": "sP0lDPlXFJ2Q",
        "colab_type": "code",
        "colab": {}
      },
      "source": [
        "pcs = normalized_AMT @ vt.T\n",
        "pcs = pcs.rename(columns = {0: \"pc1\", 1: \"pc2\", 2: \"pc3\", 3: \"pc4\", 4: \"pc5\", 5: \"pc6\", 6: \"pc7\",\n",
        "                            7: \"pc8\", 8: \"pc9\", 9: \"pc10\", 10: \"pc11\", 11: \"pc12\"})\n",
        "pcs.iloc[:,[0,1,2,3,4,5,6,7]]"
      ],
      "execution_count": 0,
      "outputs": []
    },
    {
      "cell_type": "markdown",
      "metadata": {
        "id": "4WUOv963UU96",
        "colab_type": "text"
      },
      "source": [
        "Prediction based on the 7 PCs"
      ]
    },
    {
      "cell_type": "code",
      "metadata": {
        "id": "ySgSfK8bUagX",
        "colab_type": "code",
        "colab": {}
      },
      "source": [
        "y = defaultPayment\n",
        "X = pcs.iloc[:,[0,1,2,3,4,5,6]]\n",
        "\n",
        "lrmodel= LogisticRegression(penalty='l1',C=0.01,solver='liblinear')\n",
        "lrmodel.fit(X,y.values.ravel())"
      ],
      "execution_count": 0,
      "outputs": []
    },
    {
      "cell_type": "markdown",
      "metadata": {
        "id": "6hnlg2NMX_tY",
        "colab_type": "text"
      },
      "source": [
        "Logistic Regression Model Fitting"
      ]
    },
    {
      "cell_type": "code",
      "metadata": {
        "id": "RcrnZ6nqX_ID",
        "colab_type": "code",
        "colab": {}
      },
      "source": [
        "X=X_test[['BILL_AMT1','BILL_AMT2','BILL_AMT3','BILL_AMT4','BILL_AMT5','PAY_AMT6',\n",
        "                        'PAY_AMT1','PAY_AMT2','PAY_AMT3','PAY_AMT4','PAY_AMT5','PAY_AMT6']]\n",
        "y_test\n",
        "\n",
        "#center the X\n",
        "n = X.shape[0]\n",
        "mean = np.mean(X, axis = 0)\n",
        "sd = (np.var(X, axis = 0))**(1/2)\n",
        "normalized_AMT= (X - mean)/(sd)/n**(1/2)\n",
        "\n",
        "my_dict=np.linalg.svd(normalized_AMT, full_matrices=False)\n",
        "u = my_dict[0]\n",
        "s = my_dict[1]\n",
        "vt = my_dict[2]\n",
        "\n",
        "\n",
        "pcs_test = normalized_AMT @ vt.T\n",
        "pcs_test = pcs_test.rename(columns = {0: \"pc1\", 1: \"pc2\", 2: \"pc3\", 3: \"pc4\", 4: \"pc5\", 5: \"pc6\", 6: \"pc7\",\n",
        "                            7: \"pc8\", 8: \"pc9\", 9: \"pc10\", 10: \"pc11\", 11: \"pc12\"})\n",
        "pcs_test.iloc[:,[0,1,2,3,4,5,6]]\n",
        "\n",
        "lrmodel.fit(pcs_test.iloc[:,[0,1,2,3,4,5,6]],y_test.values.ravel())\n",
        "print('Accuracy of logistic regression classifier on test set: {:.2f}'.format(lrmodel.score(pcs_test.iloc[:,[0,1,2,3,4,5,6]],y_test)))\n"
      ],
      "execution_count": 0,
      "outputs": []
    },
    {
      "cell_type": "markdown",
      "metadata": {
        "id": "Rzml-Z1MV4OM",
        "colab_type": "text"
      },
      "source": [
        "# **5. Feature Engineering**\n"
      ]
    },
    {
      "cell_type": "markdown",
      "metadata": {
        "id": "rMp4MiUeNZhx",
        "colab_type": "text"
      },
      "source": [
        "Based on EDA above, We will create two new features such that one feature will add the effect of Limit Balance on Sex and another will be the effect of Limit Balance on Age since limit balance can influence these features.\n",
        "\n",
        "\n"
      ]
    },
    {
      "cell_type": "code",
      "metadata": {
        "id": "HB4bWVWuVLRN",
        "colab_type": "code",
        "colab": {}
      },
      "source": [
        "creditdefault['LIMIT & SEX'] = creditdefault['LIMIT_BAL'] * creditdefault['SEX']\n",
        "creditdefault['LIMIT & AGE'] = creditdefault['LIMIT_BAL'] * creditdefault['AGE']\n",
        "creditdefault.head()"
      ],
      "execution_count": 0,
      "outputs": []
    },
    {
      "cell_type": "markdown",
      "metadata": {
        "id": "dDpwlCuujL32",
        "colab_type": "text"
      },
      "source": [
        "# **6. LOGISTIC MODEL** "
      ]
    },
    {
      "cell_type": "markdown",
      "metadata": {
        "id": "ZzwfnXqhi6ad",
        "colab_type": "text"
      },
      "source": [
        "In credit risk analysis, \n",
        "type I error( Predict customers default(1) given they don't default(0))   \n",
        "is less important than type II errors(Predict customers don't default(0) given they default(1)). The more type II error, the more loss the banks receive. Hence, we want a model with lesst type II error.\n",
        "\n"
      ]
    },
    {
      "cell_type": "markdown",
      "metadata": {
        "id": "cW3kIfveXknL",
        "colab_type": "text"
      },
      "source": [
        "### (a) Check data imbalance"
      ]
    },
    {
      "cell_type": "code",
      "metadata": {
        "id": "G4okaKHqWl1l",
        "colab_type": "code",
        "colab": {}
      },
      "source": [
        "creditdefault.groupby('default payment next month').count()['LIMIT_BAL']"
      ],
      "execution_count": 0,
      "outputs": []
    },
    {
      "cell_type": "markdown",
      "metadata": {
        "id": "mE6l9uOUX1NZ",
        "colab_type": "text"
      },
      "source": [
        "### (b) Oversample and Undersample "
      ]
    },
    {
      "cell_type": "code",
      "metadata": {
        "id": "JOyfciMEZ247",
        "colab_type": "code",
        "colab": {}
      },
      "source": [
        "from sklearn.model_selection import train_test_split\n",
        "y = creditdefault[['default payment next month']]\n",
        "\n",
        "X = creditdefault.loc[:,['LIMIT_BAL', 'SEX', 'MARRIAGE', 'AGE', 'PAY_0', 'PAY_2',\n",
        "       'PAY_3', 'PAY_4', 'PAY_5', 'PAY_6', 'BILL_AMT1', 'BILL_AMT2',\n",
        "       'BILL_AMT3', 'BILL_AMT4', 'BILL_AMT5', 'BILL_AMT6', 'PAY_AMT1',\n",
        "       'PAY_AMT2', 'PAY_AMT3', 'PAY_AMT4', 'PAY_AMT5', 'PAY_AMT6', 'EDUCATION=Graduate School',\n",
        "       'EDUCATION=High school', 'EDUCATION=Others','EDUCATION=University','LIMIT & SEX','LIMIT & AGE']]\n",
        "X_train, X_test, y_train, y_test = train_test_split( X, y, test_size=.20)"
      ],
      "execution_count": 0,
      "outputs": []
    },
    {
      "cell_type": "code",
      "metadata": {
        "id": "PPeB5Rh2aIw6",
        "colab_type": "code",
        "colab": {}
      },
      "source": [
        "df_train = X_train.join(y_train)\n",
        "df_train.groupby('default payment next month').count()[['LIMIT_BAL']]\n",
        "x = df_train.groupby('default payment next month').count()[['LIMIT_BAL']].iloc[0,0]\n",
        "y = df_train.groupby('default payment next month').count()[['LIMIT_BAL']].iloc[1,0]\n",
        "print(x)\n",
        "print(y)\n",
        "df_train.groupby('default payment next month').count()[['LIMIT_BAL']]"
      ],
      "execution_count": 0,
      "outputs": []
    },
    {
      "cell_type": "code",
      "metadata": {
        "id": "km-_CP2EYdoY",
        "colab_type": "code",
        "colab": {}
      },
      "source": [
        "from sklearn.utils import resample\n",
        "df_majority = df_train[df_train['default payment next month']==0]\n",
        "df_minority = df_train[df_train['default payment next month']==1]"
      ],
      "execution_count": 0,
      "outputs": []
    },
    {
      "cell_type": "code",
      "metadata": {
        "id": "REXvu9o9bRcF",
        "colab_type": "code",
        "colab": {}
      },
      "source": [
        "# Oversample\n",
        "df_minority_upsampled = resample(df_minority,replace=True,n_samples=x) \n",
        "oversampletrain  = pd.concat([df_majority, df_minority_upsampled])\n",
        "oversampletrain.groupby('default payment next month').count()[['LIMIT_BAL']]"
      ],
      "execution_count": 0,
      "outputs": []
    },
    {
      "cell_type": "markdown",
      "metadata": {
        "id": "iCbPYHyed_93",
        "colab_type": "text"
      },
      "source": [
        "There is risk of overfitting for oversampling.\n"
      ]
    },
    {
      "cell_type": "code",
      "metadata": {
        "id": "3c1LTQg4cKF1",
        "colab_type": "code",
        "colab": {}
      },
      "source": [
        "# Undersample\n",
        "# we dont need replacement since we have more than enough\n",
        "df_majority_undersampled = resample(df_majority,replace=False,n_samples=y) \n",
        "undersampletrain  = pd.concat([df_majority_undersampled, df_minority])\n",
        "undersampletrain.groupby('default payment next month').count()[['LIMIT_BAL']]"
      ],
      "execution_count": 0,
      "outputs": []
    },
    {
      "cell_type": "markdown",
      "metadata": {
        "id": "xJKZLK2SeEhC",
        "colab_type": "text"
      },
      "source": [
        "There is risk of removing useful rows and adding bias."
      ]
    },
    {
      "cell_type": "markdown",
      "metadata": {
        "id": "tI-6Eu4YeZbW",
        "colab_type": "text"
      },
      "source": [
        "### (c) Model with oversampling"
      ]
    },
    {
      "cell_type": "code",
      "metadata": {
        "id": "VhJtdddjcKCE",
        "colab_type": "code",
        "colab": {}
      },
      "source": [
        "y_train1 = oversampletrain[['default payment next month']]\n",
        "X_train1 = oversampletrain.loc[:, ['LIMIT_BAL', 'SEX', 'MARRIAGE', 'AGE', 'PAY_0', 'PAY_2',\n",
        "       'PAY_3', 'PAY_4', 'PAY_5', 'PAY_6', 'BILL_AMT1', 'BILL_AMT2',\n",
        "       'BILL_AMT3', 'BILL_AMT4', 'BILL_AMT5', 'BILL_AMT6', 'PAY_AMT1',\n",
        "       'PAY_AMT2', 'PAY_AMT3', 'PAY_AMT4', 'PAY_AMT5', 'PAY_AMT6', 'EDUCATION=Graduate School',\n",
        "       'EDUCATION=High school', 'EDUCATION=Others','EDUCATION=University','LIMIT & SEX','LIMIT & AGE']]\n",
        "\n",
        "lrmodel= LogisticRegression(penalty='l1',C=0.01,solver='liblinear')\n",
        "result=lrmodel.fit(X_train1,y_train1)\n",
        "y_fitted = lrmodel.predict(X_train1)\n",
        "y_predicted = lrmodel.predict(X_test)\n",
        "from  sklearn import model_selection\n",
        "#3fold cross validation using whole dataset before split or any sampling\n",
        "scores = model_selection.cross_validate(lrmodel, pd.concat([X_train,X_test]), pd.concat([y_train,y_test]), cv=5, return_train_score=True)\n",
        "print('Train scores:')\n",
        "print(scores['train_score'])\n",
        "print('Test scores:')\n",
        "print(scores['test_score'])\n",
        "trainsc = np.round(np.mean(scores['train_score']),3)\n",
        "testsc = np.round(np.mean(scores['test_score']),3)\n",
        "df = pd.DataFrame({\"Training\":[trainsc] ,\"Testing\":[testsc]})\n",
        "df = df.rename(index={0: \"Accuracy\"})\n",
        "df"
      ],
      "execution_count": 0,
      "outputs": []
    },
    {
      "cell_type": "code",
      "metadata": {
        "id": "76CWhzkjjnsa",
        "colab_type": "code",
        "colab": {}
      },
      "source": [
        "import sys\n",
        "np.set_printoptions(threshold=sys.maxsize)"
      ],
      "execution_count": 0,
      "outputs": []
    },
    {
      "cell_type": "code",
      "metadata": {
        "id": "KE0R1kaVj6HG",
        "colab_type": "code",
        "colab": {}
      },
      "source": [
        "from sklearn.metrics import confusion_matrix\n",
        "mydf1 = confusion_matrix(y_test, y_predicted)\n",
        "print(mydf1)\n",
        "myconfusion1 = pd.DataFrame({\"Predict Not Default\":mydf1[:,0],\"Predict Default \":mydf1[:,1]})\n",
        "myconfusion1 = myconfusion1.rename(index={0: \"Actual Not Default\",1:\"Actual Default\"})\n",
        "myconfusion1"
      ],
      "execution_count": 0,
      "outputs": []
    },
    {
      "cell_type": "markdown",
      "metadata": {
        "id": "DGPcGHvBggaR",
        "colab_type": "text"
      },
      "source": [
        "### (d) Model with undersampling"
      ]
    },
    {
      "cell_type": "code",
      "metadata": {
        "id": "ACbZt4p2gYf6",
        "colab_type": "code",
        "colab": {}
      },
      "source": [
        "y_train2 = undersampletrain[['default payment next month']]\n",
        "X_train2 = undersampletrain.loc[:, ['LIMIT_BAL', 'SEX', 'MARRIAGE', 'AGE', 'PAY_0', 'PAY_2',\n",
        "       'PAY_3', 'PAY_4', 'PAY_5', 'PAY_6', 'BILL_AMT1', 'BILL_AMT2',\n",
        "       'BILL_AMT3', 'BILL_AMT4', 'BILL_AMT5', 'BILL_AMT6', 'PAY_AMT1',\n",
        "       'PAY_AMT2', 'PAY_AMT3', 'PAY_AMT4', 'PAY_AMT5', 'PAY_AMT6', 'EDUCATION=Graduate School',\n",
        "       'EDUCATION=High school', 'EDUCATION=Others','EDUCATION=University','LIMIT & SEX','LIMIT & AGE']]\n",
        "\n",
        "lrmodel= LogisticRegression(penalty='l1',C=0.01,solver='liblinear')\n",
        "result=lrmodel.fit(X_train2,y_train2)\n",
        "y_fitted = lrmodel.predict(X_train2)\n",
        "y_predicted = lrmodel.predict(X_test)\n",
        "\n",
        "#3fold cross validation using whole dataset before split or any sampling\n",
        "scores = model_selection.cross_validate(lrmodel,pd.concat([X_train,X_test]), pd.concat([y_train,y_test]), cv=5, return_train_score=True)\n",
        "print('Train scores:')\n",
        "print(scores['train_score'])\n",
        "print('Test scores:')\n",
        "print(scores['test_score'])\n",
        "trainsc = np.round(np.mean(scores['train_score']),3)\n",
        "testsc = np.round(np.mean(scores['test_score']),3)\n",
        "df = pd.DataFrame({\"Training\":[trainsc] ,\"Testing\":[testsc]})\n",
        "df = df.rename(index={0: \"Accuracy\"})\n",
        "df"
      ],
      "execution_count": 0,
      "outputs": []
    },
    {
      "cell_type": "code",
      "metadata": {
        "id": "u4N04CT0gg2V",
        "colab_type": "code",
        "colab": {}
      },
      "source": [
        "\n",
        "# C00 predict 0 given 0, C01 predict 1(default) given they don't default(0)\n",
        "mydf2 = confusion_matrix(y_test, y_predicted)\n",
        "print(mydf2)\n",
        "myconfusion2 = pd.DataFrame({\"Predict Not Default\":mydf2[:,0],\"Predict Default \":mydf2[:,1]})\n",
        "myconfusion2 = myconfusion2.rename(index={0: \"Actual Not Default\",1:\"Actual Default\"})\n",
        "myconfusion2"
      ],
      "execution_count": 0,
      "outputs": []
    },
    {
      "cell_type": "markdown",
      "metadata": {
        "id": "RrZV3GaFhO5M",
        "colab_type": "text"
      },
      "source": [
        "### (e) Model without undersampling or oversampling"
      ]
    },
    {
      "cell_type": "code",
      "metadata": {
        "id": "KMxGq7OQfGjL",
        "colab_type": "code",
        "colab": {}
      },
      "source": [
        "lrmodel= LogisticRegression(penalty='l1',C=0.01,solver='liblinear')\n",
        "result=lrmodel.fit(X_train,y_train)\n",
        "y_fitted = lrmodel.predict(X_train)\n",
        "y_predicted = lrmodel.predict(X_test)\n",
        "\n",
        "\n",
        "#3fold cross validation using whole dataset before split or any sampling\n",
        "scores = model_selection.cross_validate(lrmodel, pd.concat([X_train,X_test]), pd.concat([y_train,y_test]), cv=5, return_train_score=True)\n",
        "print('Train scores:')\n",
        "print(scores['train_score'])\n",
        "print('Test scores:')\n",
        "print(scores['test_score'])\n",
        "trainsc = np.round(np.mean(scores['train_score']),3)\n",
        "testsc = np.round(np.mean(scores['test_score']),3)\n",
        "df = pd.DataFrame({\"Training\":[trainsc] ,\"Testing\":[testsc]})\n",
        "df = df.rename(index={0: \"Accuracy\"})\n",
        "\n",
        "print(\"Table 1. Training and Testing Accuracy of Simple Logistic model\")\n",
        "df"
      ],
      "execution_count": 0,
      "outputs": []
    },
    {
      "cell_type": "code",
      "metadata": {
        "id": "zDx7gYTpiwXP",
        "colab_type": "code",
        "colab": {}
      },
      "source": [
        "mydf3 = confusion_matrix(y_test, y_predicted)\n",
        "print(mydf3)\n",
        "myconfusion3 = pd.DataFrame({\"Predict Not Default\":mydf3[:,0],\"Predict Default \":mydf3[:,1]})\n",
        "myconfusion3 = myconfusion3.rename(index={0: \"Actual Not Default\",1:\"Actual Default\"})\n",
        "myconfusion3"
      ],
      "execution_count": 0,
      "outputs": []
    },
    {
      "cell_type": "markdown",
      "metadata": {
        "id": "R7bb5e1JlPxw",
        "colab_type": "text"
      },
      "source": [
        "Note without oversampling or undersampling, the model has a lot of type II errors i.e. predict not default given actual default.  We want a model with least type II errors or type II errors less than type I error. Hence, we will use model with undersampling."
      ]
    },
    {
      "cell_type": "markdown",
      "metadata": {
        "id": "oL1gcXWi09Zx",
        "colab_type": "text"
      },
      "source": [
        "# 8 Feature selection from undersampled data using Anova"
      ]
    },
    {
      "cell_type": "code",
      "metadata": {
        "id": "xRNUKuDz01Vs",
        "colab_type": "code",
        "colab": {}
      },
      "source": [
        "anova_table = sm.Logit(y_train,X_train)\n",
        "print(anova_table.fit().summary())"
      ],
      "execution_count": 0,
      "outputs": []
    },
    {
      "cell_type": "markdown",
      "metadata": {
        "id": "Y_LCE0ja2sCU",
        "colab_type": "text"
      },
      "source": [
        "# 9 Model with undersampling after feature selection"
      ]
    },
    {
      "cell_type": "code",
      "metadata": {
        "id": "Nl1AEep81LWz",
        "colab_type": "code",
        "colab": {}
      },
      "source": [
        "X_train2 = undersampletrain.loc[:, ['LIMIT_BAL',  'MARRIAGE',  'PAY_0', 'PAY_2',\n",
        "       'PAY_3', 'PAY_4','BILL_AMT1','BILL_AMT2', 'PAY_AMT1',\n",
        "       'PAY_AMT2',  'PAY_AMT4','EDUCATION=Graduate School',\n",
        "       'EDUCATION=High school', 'EDUCATION=Others','EDUCATION=University','LIMIT & AGE']]\n",
        "X_test2 = X_test.loc[:, ['LIMIT_BAL',  'MARRIAGE',  'PAY_0', 'PAY_2',\n",
        "       'PAY_3', 'PAY_4','BILL_AMT1','BILL_AMT2', 'PAY_AMT1',\n",
        "       'PAY_AMT2',  'PAY_AMT4','EDUCATION=Graduate School',\n",
        "       'EDUCATION=High school', 'EDUCATION=Others','EDUCATION=University','LIMIT & AGE']]\n",
        "lrmodel= LogisticRegression(penalty='l1',C=0.01,solver='liblinear')\n",
        "result=lrmodel.fit(X_train2,y_train2)\n",
        "y_fitted = lrmodel.predict(X_train2)\n",
        "y_predicted = lrmodel.predict(X_test2)\n",
        "\n",
        "from  sklearn import model_selection\n",
        "#3fold cross validation using whole dataset before split or any sampling\n",
        "scores = model_selection.cross_validate(lrmodel, pd.concat([X_train,X_test]), pd.concat([y_train,y_test]), cv=5, return_train_score=True)\n",
        "print('Train scores:')\n",
        "print(scores['train_score'])\n",
        "print('Test scores:')\n",
        "print(scores['test_score'])\n",
        "trainsc = np.round(np.mean(scores['train_score']),3)\n",
        "testsc = np.round(np.mean(scores['test_score']),3)\n",
        "df = pd.DataFrame({\"Training\":[trainsc] ,\"Testing\":[testsc]})\n",
        "df = df.rename(index={0: \"Accuracy\"})\n",
        "df"
      ],
      "execution_count": 0,
      "outputs": []
    },
    {
      "cell_type": "code",
      "metadata": {
        "id": "y_Z1mUUN3Efk",
        "colab_type": "code",
        "colab": {}
      },
      "source": [
        "mydf4 = confusion_matrix(y_test, y_predicted)\n",
        "print(mydf4)\n",
        "myconfusion4 = pd.DataFrame({\"Predict Not Default\":mydf4[:,0],\"Predict Default \":mydf4[:,1]})\n",
        "myconfusion4 = myconfusion4.rename(index={0: \"Actual Not Default\",1:\"Actual Default\"})\n",
        "myconfusion4"
      ],
      "execution_count": 0,
      "outputs": []
    },
    {
      "cell_type": "markdown",
      "metadata": {
        "id": "G73VEDK33n0J",
        "colab_type": "text"
      },
      "source": [
        "Overall, with features removed using ANOVA , the reduced model gets same predictive power as full model both undersampled. However, reduced model has a balanced type I and type II error whereas full model has much less type II error than type I error. Both model are undersampled. Based on business model, we can use either of the model to open credit for new customers. "
      ]
    },
    {
      "cell_type": "code",
      "metadata": {
        "id": "tT846hU9EPD_",
        "colab_type": "code",
        "colab": {}
      },
      "source": [
        "precision = mydf4[1,1]/np.sum(mydf4[1,1]+ mydf4[0,1]) # BIGGER TYPE I ERROR, smaller precision \n",
        "recall = mydf4[1,1]/np.sum(mydf4[1,1]+ mydf4[1,0]) # bigger type II (FN), smaller recall, better recall smaller type II\n",
        "\n",
        "precisionlist = [mydf1[1,1]/np.sum(mydf1[1,1]+ mydf1[0,1]),mydf2[1,1]/np.sum(mydf2[1,1]+ mydf2[0,1]),\n",
        "                mydf3[1,1]/np.sum(mydf3[1,1]+ mydf3[0,1]),mydf4[1,1]/np.sum(mydf4[1,1]+ mydf4[0,1])]\n",
        "                                   \n",
        "precisionlist     = np.round(precisionlist,4)       \n",
        "precisionlist\n",
        "\n",
        "recallist = [mydf1[1,1]/np.sum(mydf1[1,1]+ mydf1[1,0]),mydf2[1,1]/np.sum(mydf2[1,1]+ mydf2[1,0]),\n",
        "                mydf3[1,1]/np.sum(mydf3[1,1]+ mydf3[1,0]),mydf4[1,1]/np.sum(mydf4[1,1]+ mydf4[1,0])]\n",
        "recallist\n",
        "\n",
        "\n",
        "prenrec = pd.DataFrame({\"Precision\":precisionlist,\"Recall\":recallist})\n",
        "prenrec = prenrec.rename(index={0: \"Oversample\",1:\"Undersample\",2: \"Simple \",3:\"Undersample with feature selection\"})\n",
        "prenrec"
      ],
      "execution_count": 0,
      "outputs": []
    }
  ]
}